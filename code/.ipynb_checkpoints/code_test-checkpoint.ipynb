{
 "cells": [
  {
   "cell_type": "code",
   "execution_count": 2,
   "metadata": {},
   "outputs": [],
   "source": [
    "import geopandas \n",
    "from shapely.geometry import Polygon\n",
    "from shapely.geometry import Point\n",
    "from geopandas import GeoDataFrame"
   ]
  },
  {
   "cell_type": "code",
   "execution_count": 3,
   "metadata": {},
   "outputs": [],
   "source": [
    "# get paths to each shapefile in subfolder\n",
    "path = '/Users/saraeichner/Documents/GitHub/python-project/data/HudsonEstuary/'"
   ]
  },
  {
   "cell_type": "code",
   "execution_count": 4,
   "metadata": {},
   "outputs": [],
   "source": [
    "data={\n",
    "    'ms4s': {'path':'/Users/saraeichner/Documents/GitHub/python-project/data/HudsonEstuary/ms4_outfalls/MS4Outfalls_study_area.shp'},\n",
    "    'csos':{'path': '/Users/saraeichner/Documents/GitHub/python-project/data/HudsonEstuary/CSOs/CSOs_studyarea.shp'},\n",
    "    'boatlaunches':{'path': '/Users/saraeichner/Documents/GitHub/python-project/data/HudsonEstuary/boatlaunches/boatlaunches_NJ_NY.shp'},\n",
    "    'waterbodies':{'path':'/Users/saraeichner/Documents/GitHub/python-project/data/HudsonEstuary/waterbody_regions/waterbodies.shp'},\n",
    "    'ba':{'path':'/Users/saraeichner/Documents/GitHub/python-project/data/HudsonEstuary/boundingarea/boundingarea.shp'},\n",
    "    'sa':{'path':'/Users/saraeichner/Documents/GitHub/python-project/data/HudsonEstuary/study_area/study_area.shp'},\n",
    "    'watershape':{'path':'/Users/saraeichner/Documents/GitHub/python-project/data/HudsonEstuary/region_water_shape/region_water_shape.shp'},\n",
    "    'beaches':{'path':'/Users/saraeichner/Documents/GitHub/python-project/data/HudsonEstuary/Beaches/beaches_merge_1.shp'},\n",
    "    'sa_poly':{'path':'/Users/saraeichner/Documents/GitHub/python-project/data/HudsonEstuary/study_area/study_area_polygon.shp'}\n",
    "}\n"
   ]
  },
  {
   "cell_type": "code",
   "execution_count": 66,
   "metadata": {},
   "outputs": [
    {
     "name": "stdout",
     "output_type": "stream",
     "text": [
      "ms4s\n",
      "csos\n",
      "boatlaunches\n",
      "waterbodies\n",
      "ba\n",
      "sa\n",
      "watershape\n",
      "beaches\n",
      "sa_poly\n"
     ]
    }
   ],
   "source": [
    "for k, v in data.items():\n",
    "    data[k]['gdf']=geopandas.read_file(data[k]['path'])\n",
    "    print(k)"
   ]
  },
  {
   "cell_type": "code",
   "execution_count": 63,
   "metadata": {},
   "outputs": [
    {
     "data": {
      "text/html": [
       "<div>\n",
       "<style scoped>\n",
       "    .dataframe tbody tr th:only-of-type {\n",
       "        vertical-align: middle;\n",
       "    }\n",
       "\n",
       "    .dataframe tbody tr th {\n",
       "        vertical-align: top;\n",
       "    }\n",
       "\n",
       "    .dataframe thead th {\n",
       "        text-align: right;\n",
       "    }\n",
       "</style>\n",
       "<table border=\"1\" class=\"dataframe\">\n",
       "  <thead>\n",
       "    <tr style=\"text-align: right;\">\n",
       "      <th></th>\n",
       "      <th>OBJECTID</th>\n",
       "      <th>PERMITTEE</th>\n",
       "      <th>PERMIT_ID</th>\n",
       "      <th>OUTFALL_ID</th>\n",
       "      <th>PER_OUT_ID</th>\n",
       "      <th>LATITUDE</th>\n",
       "      <th>LONGITUDE</th>\n",
       "      <th>RECV_WATER</th>\n",
       "      <th>STREET_LOC</th>\n",
       "      <th>WATER_REG</th>\n",
       "      <th>geometry</th>\n",
       "    </tr>\n",
       "  </thead>\n",
       "  <tbody>\n",
       "    <tr>\n",
       "      <th>0</th>\n",
       "      <td>1</td>\n",
       "      <td>Paterson</td>\n",
       "      <td>NJG0108880</td>\n",
       "      <td>022</td>\n",
       "      <td>NJG0108880_022</td>\n",
       "      <td>40.93150</td>\n",
       "      <td>-74.16740</td>\n",
       "      <td>Passaic River</td>\n",
       "      <td>Short Street</td>\n",
       "      <td>Upper Passaic</td>\n",
       "      <td>POINT (937994.400 278693.353)</td>\n",
       "    </tr>\n",
       "    <tr>\n",
       "      <th>1</th>\n",
       "      <td>2</td>\n",
       "      <td>Paterson</td>\n",
       "      <td>NJG0108880</td>\n",
       "      <td>023</td>\n",
       "      <td>NJG0108880_023</td>\n",
       "      <td>40.93833</td>\n",
       "      <td>-74.14306</td>\n",
       "      <td>Passaic River</td>\n",
       "      <td>Second Avenue</td>\n",
       "      <td>Upper Passaic</td>\n",
       "      <td>POINT (944724.033 281169.899)</td>\n",
       "    </tr>\n",
       "    <tr>\n",
       "      <th>2</th>\n",
       "      <td>3</td>\n",
       "      <td>Paterson</td>\n",
       "      <td>NJG0108880</td>\n",
       "      <td>024</td>\n",
       "      <td>NJG0108880_024</td>\n",
       "      <td>40.93611</td>\n",
       "      <td>-74.14167</td>\n",
       "      <td>Passaic River</td>\n",
       "      <td>Third Avenue</td>\n",
       "      <td>Upper Passaic</td>\n",
       "      <td>POINT (945106.767 280360.432)</td>\n",
       "    </tr>\n",
       "    <tr>\n",
       "      <th>3</th>\n",
       "      <td>4</td>\n",
       "      <td>Paterson</td>\n",
       "      <td>NJG0108880</td>\n",
       "      <td>025</td>\n",
       "      <td>NJG0108880_025</td>\n",
       "      <td>40.92361</td>\n",
       "      <td>-74.14111</td>\n",
       "      <td>Passaic River</td>\n",
       "      <td>33rd Street and 10th Ave.</td>\n",
       "      <td>Upper Passaic</td>\n",
       "      <td>POINT (945254.158 275805.896)</td>\n",
       "    </tr>\n",
       "    <tr>\n",
       "      <th>4</th>\n",
       "      <td>5</td>\n",
       "      <td>Paterson</td>\n",
       "      <td>NJG0108880</td>\n",
       "      <td>026</td>\n",
       "      <td>NJG0108880_026</td>\n",
       "      <td>40.90583</td>\n",
       "      <td>-74.13306</td>\n",
       "      <td>Passaic River</td>\n",
       "      <td>20th Avenue</td>\n",
       "      <td>Upper Passaic</td>\n",
       "      <td>POINT (947468.938 269324.415)</td>\n",
       "    </tr>\n",
       "  </tbody>\n",
       "</table>\n",
       "</div>"
      ],
      "text/plain": [
       "   OBJECTID PERMITTEE   PERMIT_ID OUTFALL_ID      PER_OUT_ID  LATITUDE  \\\n",
       "0         1  Paterson  NJG0108880        022  NJG0108880_022  40.93150   \n",
       "1         2  Paterson  NJG0108880        023  NJG0108880_023  40.93833   \n",
       "2         3  Paterson  NJG0108880        024  NJG0108880_024  40.93611   \n",
       "3         4  Paterson  NJG0108880        025  NJG0108880_025  40.92361   \n",
       "4         5  Paterson  NJG0108880        026  NJG0108880_026  40.90583   \n",
       "\n",
       "   LONGITUDE     RECV_WATER                 STREET_LOC      WATER_REG  \\\n",
       "0  -74.16740  Passaic River               Short Street  Upper Passaic   \n",
       "1  -74.14306  Passaic River              Second Avenue  Upper Passaic   \n",
       "2  -74.14167  Passaic River               Third Avenue  Upper Passaic   \n",
       "3  -74.14111  Passaic River  33rd Street and 10th Ave.  Upper Passaic   \n",
       "4  -74.13306  Passaic River                20th Avenue  Upper Passaic   \n",
       "\n",
       "                        geometry  \n",
       "0  POINT (937994.400 278693.353)  \n",
       "1  POINT (944724.033 281169.899)  \n",
       "2  POINT (945106.767 280360.432)  \n",
       "3  POINT (945254.158 275805.896)  \n",
       "4  POINT (947468.938 269324.415)  "
      ]
     },
     "execution_count": 63,
     "metadata": {},
     "output_type": "execute_result"
    }
   ],
   "source": [
    "csos= data[k]['gdf']\n",
    "csos.head()"
   ]
  },
  {
   "cell_type": "code",
   "execution_count": null,
   "metadata": {},
   "outputs": [],
   "source": []
  },
  {
   "cell_type": "code",
   "execution_count": 81,
   "metadata": {
    "scrolled": true
   },
   "outputs": [
    {
     "name": "stdout",
     "output_type": "stream",
     "text": [
      "ms4s epsg:2263\n",
      "csos epsg:2263\n",
      "boatlaunches epsg:2263\n",
      "waterbodies epsg:2263\n",
      "ba epsg:2263\n",
      "sa epsg:2263\n",
      "watershape epsg:2263\n",
      "beaches epsg:2263\n",
      "sa_poly epsg:2263\n"
     ]
    }
   ],
   "source": [
    "for k, v in data.items():\n",
    "    crs=(data[k]['gdf']).crs\n",
    "\n",
    "    print(k, crs)"
   ]
  },
  {
   "cell_type": "code",
   "execution_count": 84,
   "metadata": {},
   "outputs": [
    {
     "name": "stdout",
     "output_type": "stream",
     "text": [
      "ms4s CRS is EPSG:2263\n",
      "csos CRS is EPSG:2263\n",
      "boatlaunches CRS is EPSG:2263\n",
      "waterbodies CRS is EPSG:2263\n",
      "ba CRS is EPSG:2263\n",
      "sa CRS is EPSG:2263\n",
      "watershape CRS is EPSG:2263\n",
      "beaches CRS is EPSG:2263\n",
      "sa_poly CRS is EPSG:2263\n"
     ]
    }
   ],
   "source": [
    "for k, v in data.items():\n",
    "    #crs=(data[k]['gdf']).crs\n",
    "    \n",
    "    if (data[k]['gdf']).crs == 'EPSG:2263':\n",
    "        print(k, \"CRS is EPSG:2263\")\n",
    "\n",
    "    else: #(data[k]['gdf']).crs != 'EPSG:2263':\n",
    "        print(k, \"CRS is \", item['crs'], \"and needs to be changed\")\n",
    "      #  for i in item: to_crs:'EPSG:2263'"
   ]
  },
  {
   "cell_type": "code",
   "execution_count": null,
   "metadata": {},
   "outputs": [],
   "source": []
  }
 ],
 "metadata": {
  "kernelspec": {
   "display_name": "Python 3",
   "language": "python",
   "name": "python3"
  },
  "language_info": {
   "codemirror_mode": {
    "name": "ipython",
    "version": 3
   },
   "file_extension": ".py",
   "mimetype": "text/x-python",
   "name": "python",
   "nbconvert_exporter": "python",
   "pygments_lexer": "ipython3",
   "version": "3.8.2"
  }
 },
 "nbformat": 4,
 "nbformat_minor": 4
}
